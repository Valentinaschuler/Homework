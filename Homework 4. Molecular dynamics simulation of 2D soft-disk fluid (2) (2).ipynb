{
 "cells": [
  {
   "cell_type": "markdown",
   "id": "9b6f309c",
   "metadata": {},
   "source": [
    "# Homework 4. Molecular dynamics simulation  of 2D soft-disk fluid"
   ]
  },
  {
   "cell_type": "markdown",
   "id": "0fd3d078",
   "metadata": {},
   "source": [
    "In this homework, you will use molecular dynamics to simulate the behavior of fluid consisting of soft disks in two dimensions. The particles in this fluid interact with each other via the pairwise potential of the following form: \n",
    "\n",
    " $$  u(r_{ij})=\\left\\{\n",
    "                \\begin{array}{ll}\n",
    "                  4\\epsilon \\left[ \n",
    "                  \\left (\n",
    "                  \\frac{\\sigma}{r_{ij} }\n",
    "                  \\right )^{12} \n",
    "                  -\n",
    "                   \\left (\n",
    "                  \\frac{\\sigma}{r_{ij} }\n",
    "                  \\right )^{6} + \n",
    "                  \\right ] + \\epsilon,  \\ r_{ij} < r_c\\\\\n",
    "                  0, r_{ij} \\geq r_c, r_c = 2^{1/6}\\sigma\n",
    "                \\end{array}\n",
    "              \\right.\n",
    "$$"
   ]
  },
  {
   "cell_type": "markdown",
   "id": "ca43b2b6",
   "metadata": {},
   "source": [
    "For this model, we will use reduced MD units, such that $\\sigma = 1 $, $  \\epsilon=1$,  $k_b = 1$.\n",
    "All the particles have unit mass.\n",
    "\n",
    "$ r_c = 2^{1/6}\\sigma $"
   ]
  },
  {
   "cell_type": "markdown",
   "id": "8056b3b6",
   "metadata": {},
   "source": [
    "**The homework consists of 5 tasks, 25 points total. You should work in groups of 3-4 people and submit one solution for each group within 3 weeks. You can use GitHub for collaboration.**"
   ]
  },
  {
   "cell_type": "markdown",
   "id": "56ea1588",
   "metadata": {},
   "source": [
    "## Task 1.  System initialization\n",
    "\n",
    "1) Write a function that assigns coordinates of  N particles on a square grid inside a square box with side length L. This function should return a 2d array with coordinates for each particle. (1 pt)\n",
    "\n",
    "2) Write a function that takes temperature as input and initializes particle velocities consistent with the given temperature. Make sure that the total momentum of the system is zero. (2 pt)\n"
   ]
  },
  {
   "cell_type": "code",
   "execution_count": 1,
   "id": "08c2fb7e-386f-4674-b281-33039a49fb89",
   "metadata": {},
   "outputs": [],
   "source": [
    "import numpy as np\n",
    "import matplotlib.pyplot as plt\n",
    "from matplotlib.animation import FuncAnimation"
   ]
  },
  {
   "cell_type": "code",
   "execution_count": 2,
   "id": "eb5893b4-06d4-4478-963c-f42e8717a3c2",
   "metadata": {},
   "outputs": [],
   "source": [
    "# reduced MD units\n",
    "epsilon, m, kb, sigma = 1, 1, 1, 1"
   ]
  },
  {
   "cell_type": "code",
   "execution_count": 3,
   "id": "014feaeb",
   "metadata": {},
   "outputs": [
    {
     "data": {
      "image/png": "[encoded data removed]",
      "text/plain": [
       "<Figure size 640x480 with 1 Axes>"
      ]
     },
     "metadata": {},
     "output_type": "display_data"
    }
   ],
   "source": [
    "# This is a function which initialises the system\n",
    "# INPUTS: Temperature (T), Length of the box (L), Number of particles (N)\n",
    "# OUTPUTS: \n",
    "# x_matrix (N,2) for the positions, where the first column contanins the x-coordinates and the second the y-coordinates\n",
    "# v_matrix (N,2) for the velocities, where the first column contanins the vx-coordinates and the second the vy-coordinates\n",
    "\n",
    "# We define the inputs:\n",
    "N=25 # The square root of N (total number of particles) should be an integer\n",
    "L=10 # Length of the box\n",
    "T=1 # Temperature (K)\n",
    "\n",
    "def initialise_system(T, N, L):\n",
    "    # initialise positions\n",
    "    d=L/N**0.5\n",
    "    x = np.arange(d/2, L, d)  \n",
    "    X, Y = np.meshgrid(x, x)\n",
    "    r0_matrix = np.column_stack((X.flatten(),Y.flatten()))\n",
    "    # initialise velocities\n",
    "    v = np.sqrt(kb*T/m) * np.random.randn(N,2)\n",
    "    p = np.sum(v*m, axis=0)\n",
    "    v0_matrix=v-(p/(m*N))\n",
    "    return r0_matrix, v0_matrix\n",
    "\n",
    "r0_matrix, v0_matrix = initialise_system(T, N, L)\n",
    "# print(x_matrix)\n",
    "# print(v_matrix)\n",
    "# print(x_matrix.shape)\n",
    "# print(v_matrix.shape)\n",
    "\n",
    "# Plot the points\n",
    "plt.scatter(r0_matrix[:,0], r0_matrix[:,1], marker='o', color='blue')\n",
    "plt.xlabel('X')\n",
    "plt.ylabel('Y')\n",
    "plt.title('Simple cubic distribution')\n",
    "\n",
    "box_limits=np.array([0, L])\n",
    "xlimits = np.around(np.append(r0_matrix[:,0], box_limits), decimals=1)\n",
    "ylimits = np.around(np.append(r0_matrix[:,1], box_limits), decimals=1)\n",
    "\n",
    "plt.xticks(xlimits)\n",
    "plt.yticks(ylimits)\n",
    "plt.grid(True, linestyle='--', linewidth=0.5, alpha=0.7)\n",
    "plt.gca().set_aspect('equal', adjustable='box')\n",
    "\n",
    "plt.xlim(0,L)\n",
    "plt.ylim(0,L)\n",
    "\n",
    "plt.show()"
   ]
  },
  {
   "cell_type": "markdown",
   "id": "077b784f",
   "metadata": {},
   "source": [
    "## Task 2. Building MD code  \n",
    "\n",
    "\n",
    "1) Write code to perform molecular dynamics simulation of your system according to the following algorithm:\n",
    "\n",
    " *  Initialize positions, velocities, and accelerations for your system.\n",
    " * For each modeling step:\n",
    "      - Update coordinates using velocity Verlet algorithm. (1 pt)\n",
    "      - Apply periodic boundary conditions to coordinates. (1pt)\n",
    "      - Calculate the force acting on each particle and accelerations. Keep in mind minimum image convention! (4 pt)\n",
    "      - Update velocities using velocity Verlet algorithm. (1pt)"
   ]
  },
  {
   "cell_type": "code",
   "execution_count": 4,
   "id": "61badba5-00ef-45af-a54c-9dc7befad889",
   "metadata": {},
   "outputs": [],
   "source": [
    "def velocity_verlet_integration(N, dt, nsteps, force, **kwargs):\n",
    "    \"\"\"\n",
    "    Velocity Verlet integration\n",
    "    \"\"\"\n",
    "    #1.update velocity halfway\n",
    "    #2.update position using the intermediate velocity \n",
    "    #3.update velocity based on the updated position\n",
    "    coordinates_verlet = np.zeros((nsteps,N,2))\n",
    "    velocities_verlet = np.zeros((nsteps,N,2))\n",
    "\n",
    "    # Initialisation \n",
    "    coordinates_verlet[0], velocities_verlet[0] = initialise_system(T,N,L)\n",
    "\n",
    "    # apply min image convention to force calc, calculate initial force once here, then rest will be recycled in each loop below\n",
    "    dists = calculate_distances(coordinates_verlet[0], N, L)    \n",
    "    f1 = LJ_force(dists, epsilon, sigma)\n",
    "    f1 = force_reformat(f1)\n",
    "\n",
    "    for i in range(nsteps-1):\n",
    "        v_halfway = velocities_verlet[i] + 0.5*dt*f1 #1. velocity update    \n",
    "        r_current = coordinates_verlet[i] + v_halfway*dt #2. update position using intermediate velocity\n",
    "        # apply pbcs\n",
    "        coordinates_verlet[i+1] = apply_pbc(L, r_current)\n",
    "        # add minimum image to force\n",
    "        dists = calculate_distances(coordinates_verlet[i+1], N, L)\n",
    "        f2 = LJ_force(dists, epsilon, sigma)\n",
    "        f2 = force_reformat(f2)\n",
    "        velocities_verlet[i+1] = v_halfway + 0.5*dt*f2 #3.update velocity based on the updated position       \n",
    "        f1 = f2     # store force for next loop \n",
    "       \n",
    "    return coordinates_verlet, velocities_verlet"
   ]
  },
  {
   "cell_type": "code",
   "execution_count": 5,
   "id": "d6b0f32a-ab95-46cf-8804-13c1874e14fb",
   "metadata": {},
   "outputs": [],
   "source": [
    "def u_lj_shifted_with_cutoff(r, sigma, epsilon):\n",
    "    \"\"\"\n",
    "    LJ potential shifted up by epsilon and trancated\n",
    "    at r=sigma* 2^(1/6)\n",
    "    (Target potential)\n",
    "    \"\"\"\n",
    "    r_c = sigma*np.power(2, 1/6)\n",
    "    potential = np.zeros(r.shape)\n",
    "    \n",
    "    # Selecting positins below cutoff\n",
    "    r_below_rc = np.argwhere(r < r_c)\n",
    "    \n",
    "    potential[r_below_rc] = u_lj(r[r_below_rc], sigma, epsilon) + epsilon\n",
    "    return potential\n",
    "\n",
    "def LJ_force(r, epsilon, sigma):\n",
    "    F=4*epsilon*(-12*(sigma**12/r**13)+6*(sigma**6/r**7))    \n",
    "    return F\n",
    "\n",
    "def force_reformat(F):\n",
    "    F = np.nan_to_num(F, copy=True, nan=0.0)\n",
    "    F = np.sum(F, axis=0)\n",
    "    F = np.column_stack((F, F))\n",
    "    return F"
   ]
  },
  {
   "cell_type": "code",
   "execution_count": 6,
   "id": "6d3db545-be31-43a6-946a-7ed55cdaa95f",
   "metadata": {},
   "outputs": [],
   "source": [
    "def apply_pbc(L, r):\n",
    "    \"\"\" L is length of box\n",
    "        r is an (N,2) matrix\n",
    "    \"\"\"\n",
    "    # I assumed here our box is from [0, L) instead of [-L/2, L/2) as we had before as I think that's how we initialised it \n",
    "    return r%L\n",
    "\n",
    "    # if we want to do [-L/2, L/2) I think we can use this\n",
    "    #def apply_pbc(L, x):\n",
    "        #return (x + L/2)%L - L/2"
   ]
  },
  {
   "cell_type": "code",
   "execution_count": 7,
   "id": "7b39d08e-ce6b-473a-bbe2-e959a595b98b",
   "metadata": {},
   "outputs": [],
   "source": [
    "def calculate_distances(r, N, L):\n",
    "    distances = np.zeros((N,N))\n",
    "    for i in range(N-1):\n",
    "        for j in range(i+1, N):\n",
    "            r_ij = r[j, :] - r[i, :]\n",
    "            r_ij = r_ij - L * np.rint(r_ij / L)\n",
    "            min_dist = np.linalg.norm(r_ij)\n",
    "            distances[i, j] = min_dist\n",
    "            distances[j, i] = min_dist\n",
    "    return distances"
   ]
  },
  {
   "cell_type": "code",
   "execution_count": 8,
   "id": "0d18d826-ebd6-40ce-b586-2d1e2a609e28",
   "metadata": {},
   "outputs": [
    {
     "name": "stderr",
     "output_type": "stream",
     "text": [
      "C:\\Users\\ev-s3\\AppData\\Local\\Temp\\ipykernel_19300\\856653581.py:17: RuntimeWarning: divide by zero encountered in divide\n",
      "  F=4*epsilon*(-12*(sigma**12/r**13)+6*(sigma**6/r**7))\n",
      "C:\\Users\\ev-s3\\AppData\\Local\\Temp\\ipykernel_19300\\856653581.py:17: RuntimeWarning: invalid value encountered in add\n",
      "  F=4*epsilon*(-12*(sigma**12/r**13)+6*(sigma**6/r**7))\n"
     ]
    }
   ],
   "source": [
    "dt=0.1\n",
    "nsteps=1000\n",
    "coordinates_verlet, velocities_verlet = velocity_verlet_integration(N, dt, nsteps, LJ_force)"
   ]
  },
  {
   "cell_type": "code",
   "execution_count": 9,
   "id": "af862cf2",
   "metadata": {},
   "outputs": [
    {
     "name": "stderr",
     "output_type": "stream",
     "text": [
      "C:\\Users\\ev-s3\\AppData\\Local\\Temp\\ipykernel_19300\\856653581.py:17: RuntimeWarning: divide by zero encountered in divide\n",
      "  F=4*epsilon*(-12*(sigma**12/r**13)+6*(sigma**6/r**7))\n",
      "C:\\Users\\ev-s3\\AppData\\Local\\Temp\\ipykernel_19300\\856653581.py:17: RuntimeWarning: invalid value encountered in add\n",
      "  F=4*epsilon*(-12*(sigma**12/r**13)+6*(sigma**6/r**7))\n",
      "C:\\Users\\ev-s3\\AppData\\Local\\Temp\\ipykernel_19300\\2464956949.py:9: UserWarning: frames=None which we can infer the length of, did not pass an explicit *save_count* and passed cache_frame_data=True.  To avoid a possibly unbounded cache, frame data caching has been disabled. To suppress this warning either pass `cache_frame_data=False` or `save_count=MAX_FRAMES`.\n",
      "  self.ani = FuncAnimation(self.fig, self.update, interval=10, init_func=self.setup_plot, blit=True)\n"
     ]
    },
    {
     "data": {
      "image/png": "[encoded data removed]",
      "text/plain": [
       "<Figure size 640x480 with 1 Axes>"
      ]
     },
     "metadata": {},
     "output_type": "display_data"
    }
   ],
   "source": [
    "# AnimatedScatter class for the animation\n",
    "class AnimatedScatter:\n",
    "    def __init__(self):\n",
    "        self.numpoints = N  # Update this according to your system\n",
    "        self.stream = self.data_stream()\n",
    "\n",
    "        # Setup the figure and axes\n",
    "        self.fig, self.ax = plt.subplots()\n",
    "        self.ani = FuncAnimation(self.fig, self.update, interval=10, init_func=self.setup_plot, blit=True)\n",
    "\n",
    "    def setup_plot(self):\n",
    "        # Initial drawing of the scatter plot\n",
    "        x, y = self.stream[0][:, 0], self.stream[0][:, 1]\n",
    "        self.scat = self.ax.scatter(x, y)\n",
    "        self.ax.set_xlim(0, L)\n",
    "        self.ax.set_ylim(0, L)\n",
    "        return self.scat,\n",
    "\n",
    "    def data_stream(self):\n",
    "        # Generate data for animation\n",
    "        coordinates_verlet, _ = velocity_verlet_integration(N, dt, nsteps, LJ_force)\n",
    "        return coordinates_verlet\n",
    "\n",
    "    def update(self, i):\n",
    "        # Update the scatter plot\n",
    "        data = self.stream[i]\n",
    "        self.scat.set_offsets(data)\n",
    "        return self.scat,\n",
    "\n",
    "if __name__ == '__main__':\n",
    "    a = AnimatedScatter()\n",
    "    plt.show()"
   ]
  },
  {
   "cell_type": "markdown",
   "id": "a2de4586",
   "metadata": {},
   "source": [
    "## Task 3. Simulations in the microcanonical ensemble\n",
    "\n",
    "1) Use the code you wrote in task 3 to run MD simulation of a system with 49 particles in a square box with side length L = 7 for at least 5000 steps. Initialize velocities using T=1. Use integration step dt = 0.005. Save coordinates and velocities at each step to a file. (2 pt)\n",
    "\n",
    "2) For each timestep, calculate and plot the following values as a function of time: $\\sum_i^{N particles} V_x^i $, $\\sum_y^{N particles} V_y^i $, $E_{total}$, $E_{potential}$, $E_{kinetic}$, temperature. Which of the these values should be conserved? Do your results match the prediction?  (3 pt)\n",
    "\n",
    "3) Was the modeling time enough for the system to equilibrate? Explain.  (1 pt)\n"
   ]
  },
  {
   "cell_type": "code",
   "execution_count": 10,
   "id": "c9e5d450",
   "metadata": {},
   "outputs": [
    {
     "name": "stderr",
     "output_type": "stream",
     "text": [
      "C:\\Users\\ev-s3\\AppData\\Local\\Temp\\ipykernel_19300\\856653581.py:17: RuntimeWarning: divide by zero encountered in divide\n",
      "  F=4*epsilon*(-12*(sigma**12/r**13)+6*(sigma**6/r**7))\n",
      "C:\\Users\\ev-s3\\AppData\\Local\\Temp\\ipykernel_19300\\856653581.py:17: RuntimeWarning: invalid value encountered in add\n",
      "  F=4*epsilon*(-12*(sigma**12/r**13)+6*(sigma**6/r**7))\n"
     ]
    },
    {
     "ename": "KeyboardInterrupt",
     "evalue": "",
     "output_type": "error",
     "traceback": [
      "\u001b[1;31m---------------------------------------------------------------------------\u001b[0m",
      "\u001b[1;31mKeyboardInterrupt\u001b[0m                         Traceback (most recent call last)",
      "Cell \u001b[1;32mIn[10], line 10\u001b[0m\n\u001b[0;32m      8\u001b[0m \u001b[38;5;66;03m# Perform MD simulation\u001b[39;00m\n\u001b[0;32m      9\u001b[0m nsteps \u001b[38;5;241m=\u001b[39m \u001b[38;5;241m5000\u001b[39m  \u001b[38;5;66;03m# Number of steps\u001b[39;00m\n\u001b[1;32m---> 10\u001b[0m coordinates_verlet, velocities_verlet \u001b[38;5;241m=\u001b[39m \u001b[43mvelocity_verlet_integration\u001b[49m\u001b[43m(\u001b[49m\u001b[43mN\u001b[49m\u001b[43m,\u001b[49m\u001b[43m \u001b[49m\u001b[43mdt\u001b[49m\u001b[43m,\u001b[49m\u001b[43m \u001b[49m\u001b[43mnsteps\u001b[49m\u001b[43m,\u001b[49m\u001b[43m \u001b[49m\u001b[43mLJ_force\u001b[49m\u001b[43m)\u001b[49m\n\u001b[0;32m     12\u001b[0m \u001b[38;5;66;03m# Save coordinates and velocities to a file\u001b[39;00m\n\u001b[0;32m     13\u001b[0m np\u001b[38;5;241m.\u001b[39msavez(\u001b[38;5;124m'\u001b[39m\u001b[38;5;124mmd_simulation_output.npz\u001b[39m\u001b[38;5;124m'\u001b[39m, coordinates\u001b[38;5;241m=\u001b[39mcoordinates_verlet, velocities\u001b[38;5;241m=\u001b[39mvelocities_verlet)\n",
      "Cell \u001b[1;32mIn[4], line 25\u001b[0m, in \u001b[0;36mvelocity_verlet_integration\u001b[1;34m(N, dt, nsteps, force, **kwargs)\u001b[0m\n\u001b[0;32m     23\u001b[0m coordinates_verlet[i\u001b[38;5;241m+\u001b[39m\u001b[38;5;241m1\u001b[39m] \u001b[38;5;241m=\u001b[39m apply_pbc(L, r_current)\n\u001b[0;32m     24\u001b[0m \u001b[38;5;66;03m# add minimum image to force\u001b[39;00m\n\u001b[1;32m---> 25\u001b[0m dists \u001b[38;5;241m=\u001b[39m \u001b[43mcalculate_distances\u001b[49m\u001b[43m(\u001b[49m\u001b[43mcoordinates_verlet\u001b[49m\u001b[43m[\u001b[49m\u001b[43mi\u001b[49m\u001b[38;5;241;43m+\u001b[39;49m\u001b[38;5;241;43m1\u001b[39;49m\u001b[43m]\u001b[49m\u001b[43m,\u001b[49m\u001b[43m \u001b[49m\u001b[43mN\u001b[49m\u001b[43m,\u001b[49m\u001b[43m \u001b[49m\u001b[43mL\u001b[49m\u001b[43m)\u001b[49m\n\u001b[0;32m     26\u001b[0m f2 \u001b[38;5;241m=\u001b[39m LJ_force(dists, epsilon, sigma)\n\u001b[0;32m     27\u001b[0m f2 \u001b[38;5;241m=\u001b[39m force_reformat(f2)\n",
      "Cell \u001b[1;32mIn[7], line 7\u001b[0m, in \u001b[0;36mcalculate_distances\u001b[1;34m(r, N, L)\u001b[0m\n\u001b[0;32m      5\u001b[0m r_ij \u001b[38;5;241m=\u001b[39m r[j, :] \u001b[38;5;241m-\u001b[39m r[i, :]\n\u001b[0;32m      6\u001b[0m r_ij \u001b[38;5;241m=\u001b[39m r_ij \u001b[38;5;241m-\u001b[39m L \u001b[38;5;241m*\u001b[39m np\u001b[38;5;241m.\u001b[39mrint(r_ij \u001b[38;5;241m/\u001b[39m L)\n\u001b[1;32m----> 7\u001b[0m min_dist \u001b[38;5;241m=\u001b[39m \u001b[43mnp\u001b[49m\u001b[38;5;241;43m.\u001b[39;49m\u001b[43mlinalg\u001b[49m\u001b[38;5;241;43m.\u001b[39;49m\u001b[43mnorm\u001b[49m\u001b[43m(\u001b[49m\u001b[43mr_ij\u001b[49m\u001b[43m)\u001b[49m\n\u001b[0;32m      8\u001b[0m distances[i, j] \u001b[38;5;241m=\u001b[39m min_dist\n\u001b[0;32m      9\u001b[0m distances[j, i] \u001b[38;5;241m=\u001b[39m min_dist\n",
      "File \u001b[1;32m~\\anaconda3\\envs\\CMP\\lib\\site-packages\\numpy\\linalg\\linalg.py:2552\u001b[0m, in \u001b[0;36mnorm\u001b[1;34m(x, ord, axis, keepdims)\u001b[0m\n\u001b[0;32m   2550\u001b[0m     sqnorm \u001b[38;5;241m=\u001b[39m x_real\u001b[38;5;241m.\u001b[39mdot(x_real) \u001b[38;5;241m+\u001b[39m x_imag\u001b[38;5;241m.\u001b[39mdot(x_imag)\n\u001b[0;32m   2551\u001b[0m \u001b[38;5;28;01melse\u001b[39;00m:\n\u001b[1;32m-> 2552\u001b[0m     sqnorm \u001b[38;5;241m=\u001b[39m \u001b[43mx\u001b[49m\u001b[38;5;241;43m.\u001b[39;49m\u001b[43mdot\u001b[49m\u001b[43m(\u001b[49m\u001b[43mx\u001b[49m\u001b[43m)\u001b[49m\n\u001b[0;32m   2553\u001b[0m ret \u001b[38;5;241m=\u001b[39m sqrt(sqnorm)\n\u001b[0;32m   2554\u001b[0m \u001b[38;5;28;01mif\u001b[39;00m keepdims:\n",
      "\u001b[1;31mKeyboardInterrupt\u001b[0m: "
     ]
    }
   ],
   "source": [
    "# 1)\n",
    "# Constants\n",
    "N = 49  # Number of particles\n",
    "L = 7   # Box side length\n",
    "T = 1   # Temperature (K)\n",
    "dt = 0.005  # Integration step\n",
    "\n",
    "# Perform MD simulation\n",
    "nsteps = 5000  # Number of steps\n",
    "coordinates_verlet, velocities_verlet = velocity_verlet_integration(N, dt, nsteps, LJ_force)\n",
    "\n",
    "# Save coordinates and velocities to a file\n",
    "np.savez('md_simulation_output.npz', coordinates=coordinates_verlet, velocities=velocities_verlet)"
   ]
  },
  {
   "cell_type": "code",
   "execution_count": null,
   "id": "f24c7e23",
   "metadata": {},
   "outputs": [],
   "source": [
    "# Load the .npz file\n",
    "data = np.load('md_simulation_output.npz')\n",
    "\n",
    "# Display keys in the NPZ file\n",
    "print(\"Keys in the file:\", data.files)\n",
    "\n",
    "# Access individual arrays within the .npz file\n",
    "coordinates_verlet = data['coordinates']  \n",
    "velocities_verlet = data['velocities']  \n",
    "\n",
    "print(coordinates_verlet, velocities_verlet)\n"
   ]
  },
  {
   "cell_type": "markdown",
   "id": "20e00fa7",
   "metadata": {},
   "source": [
    "## Task 4. Constant temperature molecular  dynamics\n",
    "\n",
    "In this task, you will extend code from task 2 to run the simulation at a constant temperature using Langevin dynamics.\n",
    "\n",
    "1) Implement integration of the Langevin equation. (2 pt)\n",
    "\n",
    "2) Simulate cooling of the liquid with 121 particles in the box with L=11. First, run the simulation at T=1.4 for 2000 steps. Use final coordinates and velocities to start another simulation, this time with T=1.2.  Run this lower-temperature simulation for 2000 steps. Keep restarting the simulation, each time decreasing the temperature by 0.2. The final run should be performed at T=0.6  In all the simulations, use a constant friction coefficient of your choice. (2 pt)\n",
    "\n",
    "3) Visualize several frames from a low-temperature fragment of the trajectory. These frames represent the microscopic structure of the frozen soft-disk liquid. Is the structure different from the initial square-grid arrangement? (1 pt)"
   ]
  },
  {
   "cell_type": "code",
   "execution_count": null,
   "id": "3290c52e",
   "metadata": {},
   "outputs": [],
   "source": [
    "# Constants for your system\n",
    "m = 1  # Mass of particles (assuming it's 1 for simplicity)\n",
    "\n",
    "# Initialize arrays to store the calculated values at each step\n",
    "total_px = []\n",
    "total_py = []\n",
    "total_energy = []\n",
    "potential_energy = []\n",
    "kinetic_energy = []\n",
    "\n",
    "# Define the Lennard-Jones potential function\n",
    "def u_lj(r, sigma, epsilon):\n",
    "    return 4 * epsilon * ((sigma / r) ** 12 - (sigma / r) ** 6)\n",
    "\n",
    "# Function to calculate potential energy using LJ potential\n",
    "def calculate_potential_energy(coordinates):\n",
    "    r = np.linalg.norm(coordinates[:, np.newaxis] - coordinates, axis=2)\n",
    "    np.fill_diagonal(r, 1)  # Avoid division by zero\n",
    "    potential = u_lj_shifted_with_cutoff(r, sigma, epsilon)\n",
    "    return np.sum(potential) / 2  # Divide by 2 to avoid double-counting\n",
    "\n",
    "# Function to calculate kinetic energy\n",
    "def calculate_kinetic_energy(velocities):\n",
    "    return 0.5 * np.sum(np.linalg.norm(velocities, axis=1) ** 2)\n",
    "\n",
    "# Function to calculate total energy\n",
    "def calculate_total_energy(coordinates, velocities):\n",
    "    return calculate_kinetic_energy(velocities) + calculate_potential_energy(coordinates)\n",
    "\n",
    "# Loop through each step to calculate the required quantities\n",
    "for step in range(len(coordinates_verlet)):\n",
    "    positions = coordinates_verlet[step]\n",
    "    velocities = velocities_verlet[step]\n",
    "\n",
    "    # Calculate total momentum components\n",
    "    total_px.append(np.sum(m * velocities[:, 0]))\n",
    "    total_py.append(np.sum(m * velocities[:, 1]))\n",
    "    \n",
    "    # Calculate potential energy, kinetic energy, and total energy at each step\n",
    "    potential_energy.append(calculate_potential_energy(positions))\n",
    "    kinetic_energy.append(calculate_kinetic_energy(velocities))\n",
    "    total_energy.append(calculate_total_energy(positions, velocities))\n",
    "\n",
    "# Convert lists to numpy arrays\n",
    "total_px = np.array(total_px)\n",
    "total_py = np.array(total_py)\n",
    "total_energy = np.array(total_energy)\n",
    "potential_energy = np.array(potential_energy)\n",
    "kinetic_energy = np.array(kinetic_energy)\n",
    "\n",
    "# Plotting the quantities as a function of time\n",
    "time_steps = np.arange(len(coordinates_verlet))\n",
    "\n",
    "plt.figure(figsize=(10, 8))\n",
    "\n",
    "plt.subplot(3, 2, 1)\n",
    "plt.plot(time_steps, total_px, label='Total Px')\n",
    "plt.legend()\n",
    "\n",
    "plt.subplot(3, 2, 2)\n",
    "plt.plot(time_steps, total_py, label='Total Py')\n",
    "plt.legend()\n",
    "\n",
    "plt.subplot(3, 2, 3)\n",
    "plt.plot(time_steps, total_energy, label='Total Energy')\n",
    "plt.legend()\n",
    "\n",
    "plt.subplot(3, 2, 4)\n",
    "plt.plot(time_steps, potential_energy, label='Potential Energy')\n",
    "plt.legend()\n",
    "\n",
    "plt.subplot(3, 2, 5)\n",
    "plt.plot(time_steps, kinetic_energy, label='Kinetic Energy')\n",
    "plt.legend()\n",
    "\n",
    "plt.tight_layout()\n",
    "plt.show()"
   ]
  },
  {
   "cell_type": "markdown",
   "id": "f3f9a356",
   "metadata": {},
   "source": [
    "## Task 5. Considerations when modeling realistic systems\n",
    "\n",
    "It is easy to run a simulation that yields meaningless results when doing molecular dynamics simulation. To avoid this problem, one should know the properties and limitations of the algorithms used. To prevent some of the common pitfalls in the future, answer the following questions.\n",
    "\n",
    "1) What is the maximum cut-off radius for nonbonded interactions in a periodic system with cubic box size L?  Explain your answer. (1 pt)\n",
    "\n",
    "2) Can the Andersen thermostat be used to study dynamic properties of the system, such as diffusion coefficients. Why? (1 pt)\n",
    "\n",
    "3) What is the purpose of the particle mesh Ewald (PME) algorithm? Please briefly describe the method and a) why it is used, b) which caveats does it have, c) what are the alternatives (3 pt)"
   ]
  },
  {
   "cell_type": "code",
   "execution_count": null,
   "id": "51eceb78",
   "metadata": {},
   "outputs": [],
   "source": []
  }
 ],
 "metadata": {
  "kernelspec": {
   "display_name": "Python 3 (ipykernel)",
   "language": "python",
   "name": "python3"
  },
  "language_info": {
   "codemirror_mode": {
    "name": "ipython",
    "version": 3
   },
   "file_extension": ".py",
   "mimetype": "text/x-python",
   "name": "python",
   "nbconvert_exporter": "python",
   "pygments_lexer": "ipython3",
   "version": "3.9.18"
  },
  "toc": {
   "base_numbering": 1,
   "nav_menu": {},
   "number_sections": true,
   "sideBar": true,
   "skip_h1_title": false,
   "title_cell": "Table of Contents",
   "title_sidebar": "Contents",
   "toc_cell": false,
   "toc_position": {},
   "toc_section_display": true,
   "toc_window_display": false
  }
 },
 "nbformat": 4,
 "nbformat_minor": 5
}
