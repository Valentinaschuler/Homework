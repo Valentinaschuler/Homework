{
 "cells": [
  {
   "cell_type": "markdown",
   "id": "9b6f309c",
   "metadata": {},
   "source": [
    "# Homework 4. Moleculal dynamics simulation  of 2D soft-disk fluid"
   ]
  },
  {
   "cell_type": "markdown",
   "id": "0fd3d078",
   "metadata": {},
   "source": [
    "In this homework, you will use molecular dynamics to simulate the behavior of fluid consisting of soft disks in two dimensions. The particles in this fluid interact with each other via the pairwise potential of the following form: \n",
    "\n",
    " $$  u(r_{ij})=\\left\\{\n",
    "                \\begin{array}{ll}\n",
    "                  4\\epsilon \\left[ \n",
    "                  \\left (\n",
    "                  \\frac{\\sigma}{r_{ij} }\n",
    "                  \\right )^{12} \n",
    "                  -\n",
    "                   \\left (\n",
    "                  \\frac{\\sigma}{r_{ij} }\n",
    "                  \\right )^{6} + \n",
    "                  \\right ] + \\epsilon,  \\ r_{ij} < r_c\\\\\n",
    "                  0, r_{ij} \\geq r_c, r_c = 2^{1/6}\\sigma\n",
    "                \\end{array}\n",
    "              \\right.\n",
    "$$"
   ]
  },
  {
   "cell_type": "markdown",
   "id": "ca43b2b6",
   "metadata": {},
   "source": [
    "For this model, we will use reduced MD units, such that $\\sigma = 1 $, $  \\epsilon=1$,  $k_b = 1$.\n",
    "All the particles have unit mass.\n",
    "\n",
    "$ r_c = 2^{1/6}\\sigma $"
   ]
  },
  {
   "cell_type": "markdown",
   "id": "8056b3b6",
   "metadata": {},
   "source": [
    "**The homework consists of 5 tasks, 25 points total. You should work in groups of 3-4 people and submit one solution for each group within 3 weeks. You can use GitHub for collaboration.**"
   ]
  },
  {
   "cell_type": "markdown",
   "id": "56ea1588",
   "metadata": {},
   "source": [
    "## Task 1.  System initialization\n",
    "\n",
    "1) Write a function that assigns coordinates of  N particles on a square grid inside a square box with side length L. This function should return a 2d array with coordinates for each particle. (1 pt)\n",
    "\n",
    "2) Write a function that takes temperature as input and initializes particle velocities consistent with the given temperature. Make sure that the total momentum of the system is zero. (2 pt)\n"
   ]
  },
  {
   "cell_type": "code",
   "execution_count": 40,
   "id": "014feaeb",
   "metadata": {},
   "outputs": [],
   "source": [
    "import numpy as np\n",
    "import matplotlib.pyplot as plt\n"
   ]
  },
  {
   "cell_type": "code",
   "execution_count": 41,
   "id": "35ad58e5",
   "metadata": {},
   "outputs": [],
   "source": [
    "# reduced MD units\n",
    "sigma=1, epsilon=1, m=1, kb=1"
   ]
  },
  {
   "cell_type": "code",
   "execution_count": 45,
   "id": "aa147114",
   "metadata": {},
   "outputs": [
    {
     "name": "stdout",
     "output_type": "stream",
     "text": [
      "[[ 6.  6.]\n",
      " [18.  6.]\n",
      " [30.  6.]\n",
      " [42.  6.]\n",
      " [54.  6.]\n",
      " [ 6. 18.]\n",
      " [18. 18.]\n",
      " [30. 18.]\n",
      " [42. 18.]\n",
      " [54. 18.]\n",
      " [ 6. 30.]\n",
      " [18. 30.]\n",
      " [30. 30.]\n",
      " [42. 30.]\n",
      " [54. 30.]\n",
      " [ 6. 42.]\n",
      " [18. 42.]\n",
      " [30. 42.]\n",
      " [42. 42.]\n",
      " [54. 42.]\n",
      " [ 6. 54.]\n",
      " [18. 54.]\n",
      " [30. 54.]\n",
      " [42. 54.]\n",
      " [54. 54.]]\n",
      "[[  0.35078619 -13.97318643]\n",
      " [-21.19838431  -7.84285945]\n",
      " [ -7.94275668 -27.51018722]\n",
      " [-32.84012424 -14.52048715]\n",
      " [  8.26335057  15.58126469]\n",
      " [-11.56733094  24.83569717]\n",
      " [ -4.14485246  10.4923624 ]\n",
      " [ -5.04740346  13.86682921]\n",
      " [-11.33688084  -6.52944755]\n",
      " [ 37.0890772   -0.76882664]\n",
      " [  5.30270873  -8.20727996]\n",
      " [ 13.64825452 -14.86049917]\n",
      " [ 38.79699606  -1.65634595]\n",
      " [ 25.2618241  -13.87746687]\n",
      " [-16.35838915   0.46584895]\n",
      " [ -3.94834972 -11.95732612]\n",
      " [ -7.45531087 -10.07455454]\n",
      " [ 10.27933479  10.63442349]\n",
      " [  8.14393908   1.22005743]\n",
      " [ -6.43537416 -21.28229434]\n",
      " [-19.0098786   10.20316707]\n",
      " [-28.20868637  14.26066157]\n",
      " [ -1.73499879  42.93362709]\n",
      " [ 15.25579889   5.59023097]\n",
      " [ 14.83665044   2.97659136]]\n",
      "(25, 2)\n",
      "(25, 2)\n"
     ]
    },
    {
     "data": {
      "image/png": "[encoded data removed]",
      "text/plain": [
       "<Figure size 640x480 with 1 Axes>"
      ]
     },
     "metadata": {},
     "output_type": "display_data"
    }
   ],
   "source": [
    "# This is a function which initialises the system\n",
    "# INPUTS: Temperature (T), Length of the box (L), Number of particles (N)\n",
    "# OUTPUTS: \n",
    "# x_matrix (N,2) for the positions, where the first column contanins the x-coordinates and the second the y-coordinates\n",
    "# v_matrix (N,2) for the velocities, where the first column contanins the vx-coordinates and the second the vy-coordinates\n",
    "\n",
    "# We define the inputs:\n",
    "N=25 # The square root of N (total number of particles) should be an integer\n",
    "L=60 # Length of the box\n",
    "\n",
    "def initialise_system(T, N, L):\n",
    "    v =  np.sqrt(kb*T/m) * np.random.randn(N,2)\n",
    "    p = np.sum(v*m, axis=0)\n",
    "    v_matrix=v-(p/(m*N))\n",
    "    d=L/N**0.5\n",
    "    x = np.arange(d/2, L, d)  \n",
    "    X, Y = np.meshgrid(x, x)\n",
    "    x_vector = X.flatten()\n",
    "    y_vector = Y.flatten()\n",
    "    x_matrix=np.column_stack((x_vector,y_vector))\n",
    "    return x_matrix, v_matrix\n",
    "\n",
    "x_matrix, v_matrix=initialise_system(T, N, L)\n",
    "print(x_matrix)\n",
    "print(v_matrix)\n",
    "print(x_matrix.shape)\n",
    "print(v_matrix.shape)\n",
    "\n",
    "# Plot the points\n",
    "plt.scatter(x_matrix[:,0], x_matrix[:,1], marker='o', color='blue')\n",
    "plt.xlabel('X')\n",
    "plt.ylabel('Y')\n",
    "plt.title('Simple cubic distribution')\n",
    "\n",
    "\n",
    "box_limits=np.array([0, L])\n",
    "xlimits = np.around(np.append(x_matrix[:,0], box_limits), decimals=1)\n",
    "ylimits = np.around(np.append(x_matrix[:,1], box_limits), decimals=1)\n",
    "\n",
    "plt.xticks(xlimits)\n",
    "plt.yticks(ylimits)\n",
    "plt.grid(True, linestyle='--', linewidth=0.5, alpha=0.7)\n",
    "plt.gca().set_aspect('equal', adjustable='box')\n",
    "\n",
    "plt.xlim(0,L)\n",
    "plt.ylim(0,L)\n",
    "\n",
    "plt.show()\n"
   ]
  },
  {
   "cell_type": "code",
   "execution_count": 46,
   "id": "800f2bdb",
   "metadata": {},
   "outputs": [],
   "source": [
    "def velocity_verlet_integration(x0, v0, dt, nsteps, force, **kwargs):\n",
    "    \"\"\"\n",
    "    Velocity Verlet integration\n",
    "    \"\"\"\n",
    "    #1.update velocity halfway\n",
    "    #2.update position using the intermediate velocity \n",
    "    #3.update velocity based on the updated position\n",
    "    coordinates_verlet = np.zeros(nsteps)\n",
    "    velocities_verlet = np.zeros(nsteps)\n",
    "\n",
    "    # Initialization \n",
    "    v_current = initialise_positions(N,)\n",
    "    x_current = x0\n",
    "    \n",
    "\n",
    "    for step_ndx in range(nsteps):\n",
    "        v_halfway = v_current + ((force(x_current, **kwargs))/2)*dt #1. velocity update\n",
    "        x_update = x_current + v_halfway*dt #2. update position using intermediate velocity\n",
    "        v_update = v_halfway + ((force(x_update, **kwargs))/2)*dt #3.update velocity based on the updated position\n",
    "        velocities_verlet[step_ndx] = v_current\n",
    "        coordinates_verlet[step_ndx] = x_current\n",
    "        x_current = x_update\n",
    "        v_current = v_update\n",
    "    return coordinates_verlet, velocities_verlet\n"
   ]
  },
  {
   "cell_type": "code",
   "execution_count": 47,
   "id": "23d83332",
   "metadata": {},
   "outputs": [],
   "source": [
    "def u_lj_shifted_with_cutoff(r, sigma, epsilon):\n",
    "    \"\"\"\n",
    "    LJ potential shifted up by epsilon and trancated\n",
    "    at r=sigma* 2^(1/6)\n",
    "    (Target potential)\n",
    "    \"\"\"\n",
    "    r_c = sigma*np.power(2, 1/6)\n",
    "    potential = np.zeros(r.shape)\n",
    "    \n",
    "    # Selecting positins below cutoff\n",
    "    r_below_rc = np.argwhere(r < r_c)\n",
    "    \n",
    "    potential[r_below_rc] = u_lj(r[r_below_rc], sigma, epsilon) + epsilon\n",
    "    \n",
    "    \n",
    "    return potential\n",
    "\n",
    "\n",
    "def LJ_force(r, epsilon, sigma):\n",
    "    F=4*epsilon*(-12*sigma**12/r**13+6*sigma**6/r**7)\n",
    "    return F\n"
   ]
  },
  {
   "cell_type": "code",
   "execution_count": 48,
   "id": "3264bef2",
   "metadata": {},
   "outputs": [],
   "source": [
    "def apply_pbc(L, x, y):\n",
    "    x_new = (x + L/2)%L - L/2\n",
    "    y_new = (y + L/2)%L - L/2\n",
    "    return(x_new, y_new)"
   ]
  },
  {
   "cell_type": "code",
   "execution_count": 49,
   "id": "96385ca3",
   "metadata": {},
   "outputs": [
    {
     "ename": "NameError",
     "evalue": "name 'x0' is not defined",
     "output_type": "error",
     "traceback": [
      "\u001b[1;31m---------------------------------------------------------------------------\u001b[0m",
      "\u001b[1;31mNameError\u001b[0m                                 Traceback (most recent call last)",
      "Cell \u001b[1;32mIn[49], line 3\u001b[0m\n\u001b[0;32m      1\u001b[0m dt\u001b[38;5;241m=\u001b[39m\u001b[38;5;241m0.1\u001b[39m\n\u001b[0;32m      2\u001b[0m nsteps\u001b[38;5;241m=\u001b[39m\u001b[38;5;241m20\u001b[39m\n\u001b[1;32m----> 3\u001b[0m coordinates_verlet, velocities_verlet \u001b[38;5;241m=\u001b[39m velocity_verlet_integration(\u001b[43mx0\u001b[49m, v0, dt, nsteps, LJ_force)\n",
      "\u001b[1;31mNameError\u001b[0m: name 'x0' is not defined"
     ]
    }
   ],
   "source": [
    "dt=0.1\n",
    "nsteps=20\n",
    "coordinates_verlet, velocities_verlet = velocity_verlet_integration(x0, v0, dt, nsteps, LJ_force)\n"
   ]
  },
  {
   "cell_type": "markdown",
   "id": "50909395",
   "metadata": {},
   "source": [
    "write a stepfunction and a def apply_pbc function\n",
    "step_function includes compute-forces function and integrator function\n",
    "compute-forces must include minimization function \n",
    "\n"
   ]
  },
  {
   "cell_type": "markdown",
   "id": "077b784f",
   "metadata": {},
   "source": [
    "## Task 2. Building MD code  \n",
    "\n",
    "\n",
    "1) Write code to perform molecular dynamics simulation of your system according to the following algorithm:\n",
    "\n",
    " *  Initialize positions, velocities, and accelerations for your system.\n",
    " * For each modeling step:\n",
    "      - Update coordinates using velocity Verlet algorithm. (1 pt)\n",
    "      - Apply periodic boundary conditions to coordinates. (1pt)\n",
    "      - Calculate the force acting on each particle and accelerations. Keep in mind minimum image convention! (4 pt)\n",
    "      - Update velocities using velocity Verlet algorithm. (1pt)"
   ]
  },
  {
   "cell_type": "markdown",
   "id": "a2de4586",
   "metadata": {},
   "source": [
    "## Task 3. Simulations in the microcanonical ensemble\n",
    "\n",
    "1) Use the code you wrote in task 3 to run MD simulation of a system with 49 particles in a square box with side length L = 7 for at least 5000 steps. Initialize velocities using T=1. Use integration step dt = 0.005. Save coordinates and velocities at each step to a file. (2 pt)\n",
    "\n",
    "2) For each timestep, calculate and plot the following values as a function of time: $\\sum_i^{N particles} V_x^i $, $\\sum_y^{N particles} V_y^i $, $E_{total}$, $E_{potential}$, $E_{kinetic}$, temperature. Which of the these values should be conserved? Do your results match the prediction?  (3 pt)\n",
    "\n",
    "3) Was the modeling time enough for the system to equilibrate? Explain.  (1 pt)\n"
   ]
  },
  {
   "cell_type": "code",
   "execution_count": null,
   "id": "237f871e",
   "metadata": {},
   "outputs": [],
   "source": [
    "## Task 4. Constant temperature molecular  dynamics\n",
    "\n",
    "In this task, you will extend code from task 2 to run the simulation at a constant temperature using Langevin dynamics.\n",
    "\n",
    "1) Implement integration of the Langevin equation. (2 pt)\n",
    "\n",
    "2) Simulate cooling of the liquid with 121 particles in the box with L=11. First, run the simulation at T=1.4 for 2000 steps. Use final coordinates and velocities to start another simulation, this time with T=1.2.  Run this lower-temperature simulation for 2000 steps. Keep restarting the simulation, each time decreasing the temperature by 0.2. The final run should be performed at T=0.6  In all the simulations, use a constant friction coefficient of your choice. (2 pt)\n",
    "\n",
    "3) Visualize several frames from a low-temperature fragment of the trajectory. These frames represent the microscopic structure of the frozen soft-disk liquid. Is the structure different from the initial square-grid arrangement? (1 pt)"
   ]
  },
  {
   "cell_type": "markdown",
   "id": "f3f9a356",
   "metadata": {},
   "source": [
    "## Task 5. Considerations when modeling realistic systems\n",
    "\n",
    "It is easy to run a simulation that yields meaningless results when doing molecular dynamics simulation. To avoid this problem, one should know the properties and limitations of the algorithms used. To prevent some of the common pitfalls in the future, answer the following questions.\n",
    "\n",
    "1) What is the maximum cut-off radius for nonbonded interactions in a periodic system with cubic box size L?  Explain your answer. (1 pt)\n",
    "\n",
    "2) Can the Andersen thermostat be used to study dynamic properties of the system, such as diffusion coefficients. Why? (1 pt)\n",
    "\n",
    "3) What is the purpose of the particle mesh Ewald (PME) algorithm? Please briefly describe the method and a) why it is used, b) which caveats does it have, c) what are the alternatives (3 pt)"
   ]
  },
  {
   "cell_type": "code",
   "execution_count": null,
   "id": "51eceb78",
   "metadata": {},
   "outputs": [],
   "source": []
  }
 ],
 "metadata": {
  "kernelspec": {
   "display_name": "Python 3 (ipykernel)",
   "language": "python",
   "name": "python3"
  },
  "language_info": {
   "codemirror_mode": {
    "name": "ipython",
    "version": 3
   },
   "file_extension": ".py",
   "mimetype": "text/x-python",
   "name": "python",
   "nbconvert_exporter": "python",
   "pygments_lexer": "ipython3",
   "version": "3.8.18"
  },
  "toc": {
   "base_numbering": 1,
   "nav_menu": {},
   "number_sections": true,
   "sideBar": true,
   "skip_h1_title": false,
   "title_cell": "Table of Contents",
   "title_sidebar": "Contents",
   "toc_cell": false,
   "toc_position": {},
   "toc_section_display": true,
   "toc_window_display": false
  }
 },
 "nbformat": 4,
 "nbformat_minor": 5
}
