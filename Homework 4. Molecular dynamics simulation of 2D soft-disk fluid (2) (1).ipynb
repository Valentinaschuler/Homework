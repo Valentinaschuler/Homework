{
 "cells": [
  {
   "cell_type": "markdown",
   "id": "9b6f309c",
   "metadata": {},
   "source": [
    "# Homework 4. Moleculal dynamics simulation  of 2D soft-disk fluid"
   ]
  },
  {
   "cell_type": "markdown",
   "id": "0fd3d078",
   "metadata": {},
   "source": [
    "In this homework, you will use molecular dynamics to simulate the behavior of fluid consisting of soft disks in two dimensions. The particles in this fluid interact with each other via the pairwise potential of the following form: \n",
    "\n",
    " $$  u(r_{ij})=\\left\\{\n",
    "                \\begin{array}{ll}\n",
    "                  4\\epsilon \\left[ \n",
    "                  \\left (\n",
    "                  \\frac{\\sigma}{r_{ij} }\n",
    "                  \\right )^{12} \n",
    "                  -\n",
    "                   \\left (\n",
    "                  \\frac{\\sigma}{r_{ij} }\n",
    "                  \\right )^{6} + \n",
    "                  \\right ] + \\epsilon,  \\ r_{ij} < r_c\\\\\n",
    "                  0, r_{ij} \\geq r_c, r_c = 2^{1/6}\\sigma\n",
    "                \\end{array}\n",
    "              \\right.\n",
    "$$"
   ]
  },
  {
   "cell_type": "markdown",
   "id": "ca43b2b6",
   "metadata": {},
   "source": [
    "For this model, we will use reduced MD units, such that $\\sigma = 1 $, $  \\epsilon=1$,  $k_b = 1$.\n",
    "All the particles have unit mass.\n",
    "\n",
    "$ r_c = 2^{1/6}\\sigma $"
   ]
  },
  {
   "cell_type": "markdown",
   "id": "8056b3b6",
   "metadata": {},
   "source": [
    "**The homework consists of 5 tasks, 25 points total. You should work in groups of 3-4 people and submit one solution for each group within 3 weeks. You can use GitHub for collaboration.**"
   ]
  },
  {
   "cell_type": "markdown",
   "id": "56ea1588",
   "metadata": {},
   "source": [
    "## Task 1.  System initialization\n",
    "\n",
    "1) Write a function that assigns coordinates of  N particles on a square grid inside a square box with side length L. This function should return a 2d array with coordinates for each particle. (1 pt)\n",
    "\n",
    "2) Write a function that takes temperature as input and initializes particle velocities consistent with the given temperature. Make sure that the total momentum of the system is zero. (2 pt)\n"
   ]
  },
  {
   "cell_type": "code",
   "execution_count": 69,
   "id": "08c2fb7e-386f-4674-b281-33039a49fb89",
   "metadata": {},
   "outputs": [],
   "source": [
    "import numpy as np\n",
    "import matplotlib.pyplot as plt\n",
    "from matplotlib.animation import FuncAnimation"
   ]
  },
  {
   "cell_type": "code",
   "execution_count": 25,
   "id": "eb5893b4-06d4-4478-963c-f42e8717a3c2",
   "metadata": {},
   "outputs": [],
   "source": [
    "# reduced MD units\n",
    "epsilon, m, kb, sigma = 1, 1, 1, 1"
   ]
  },
  {
   "cell_type": "code",
   "execution_count": 26,
   "id": "014feaeb",
   "metadata": {},
   "outputs": [
    {
     "data": {
      "image/png": "[encoded data removed]",
      "text/plain": [
       "<Figure size 432x288 with 1 Axes>"
      ]
     },
     "metadata": {
      "needs_background": "light"
     },
     "output_type": "display_data"
    }
   ],
   "source": [
    "# This is a function which initialises the system\n",
    "# INPUTS: Temperature (T), Length of the box (L), Number of particles (N)\n",
    "# OUTPUTS: \n",
    "# x_matrix (N,2) for the positions, where the first column contanins the x-coordinates and the second the y-coordinates\n",
    "# v_matrix (N,2) for the velocities, where the first column contanins the vx-coordinates and the second the vy-coordinates\n",
    "\n",
    "# We define the inputs:\n",
    "N=25 # The square root of N (total number of particles) should be an integer\n",
    "L=10 # Length of the box\n",
    "T=300 # Temperature (K)\n",
    "\n",
    "def initialise_system(T, N, L):\n",
    "    # initialise positions\n",
    "    d=L/N**0.5\n",
    "    x = np.arange(d/2, L, d)  \n",
    "    X, Y = np.meshgrid(x, x)\n",
    "    x_matrix = np.column_stack((X.flatten(),Y.flatten()))\n",
    "    # initialise velocities\n",
    "    v = np.sqrt(kb*T/m) * np.random.randn(N,2)\n",
    "    p = np.sum(v*m, axis=0)\n",
    "    v_matrix=v-(p/(m*N))\n",
    "    return x_matrix, v_matrix\n",
    "\n",
    "x_matrix, v_matrix=initialise_system(T, N, L)\n",
    "# print(x_matrix)\n",
    "# print(v_matrix)\n",
    "# print(x_matrix.shape)\n",
    "# print(v_matrix.shape)\n",
    "\n",
    "# Plot the points\n",
    "plt.scatter(x_matrix[:,0], x_matrix[:,1], marker='o', color='blue')\n",
    "plt.xlabel('X')\n",
    "plt.ylabel('Y')\n",
    "plt.title('Simple cubic distribution')\n",
    "\n",
    "box_limits=np.array([0, L])\n",
    "xlimits = np.around(np.append(x_matrix[:,0], box_limits), decimals=1)\n",
    "ylimits = np.around(np.append(x_matrix[:,1], box_limits), decimals=1)\n",
    "\n",
    "plt.xticks(xlimits)\n",
    "plt.yticks(ylimits)\n",
    "plt.grid(True, linestyle='--', linewidth=0.5, alpha=0.7)\n",
    "plt.gca().set_aspect('equal', adjustable='box')\n",
    "\n",
    "plt.xlim(0,L)\n",
    "plt.ylim(0,L)\n",
    "\n",
    "plt.show()"
   ]
  },
  {
   "cell_type": "markdown",
   "id": "077b784f",
   "metadata": {},
   "source": [
    "## Task 2. Building MD code  \n",
    "\n",
    "\n",
    "1) Write code to perform molecular dynamics simulation of your system according to the following algorithm:\n",
    "\n",
    " *  Initialize positions, velocities, and accelerations for your system.\n",
    " * For each modeling step:\n",
    "      - Update coordinates using velocity Verlet algorithm. (1 pt)\n",
    "      - Apply periodic boundary conditions to coordinates. (1pt)\n",
    "      - Calculate the force acting on each particle and accelerations. Keep in mind minimum image convention! (4 pt)\n",
    "      - Update velocities using velocity Verlet algorithm. (1pt)"
   ]
  },
  {
   "cell_type": "code",
   "execution_count": 64,
   "id": "61badba5-00ef-45af-a54c-9dc7befad889",
   "metadata": {},
   "outputs": [],
   "source": [
    "def velocity_verlet_integration(N, dt, nsteps, force, **kwargs):\n",
    "    \"\"\"\n",
    "    Velocity Verlet integration\n",
    "    \"\"\"\n",
    "    #1.update velocity halfway\n",
    "    #2.update position using the intermediate velocity \n",
    "    #3.update velocity based on the updated position\n",
    "    coordinates_verlet = np.zeros((nsteps,N,2))\n",
    "    velocities_verlet = np.zeros((nsteps,N,2))\n",
    "\n",
    "    # Initialisation \n",
    "    coordinates_verlet[0], velocities_verlet[0] = initialise_system(T,N,L)\n",
    "\n",
    "    f1 = LJ_force(coordinates_verlet[0], epsilon, sigma)\n",
    "\n",
    "    for i in range(1,nsteps):\n",
    "        v_halfway = velocities_verlet[i-1] + 0.5*dt*f1 #1. velocity update\n",
    "        x_current = coordinates_verlet[i-1] + v_halfway*dt #2. update position using intermediate velocity\n",
    "        # apply pbcs and add minimum image to force\n",
    "        f2 = LJ_force(x_current, epsilon, sigma)\n",
    "        v_current = v_halfway + 0.5*dt*f2 #3.update velocity based on the updated position\n",
    "        velocities_verlet[i] = v_current\n",
    "        coordinates_verlet[i] = x_current\n",
    "        #x_current = x_update\n",
    "        #v_current = v_update\n",
    "        f1 = f2     # store force for next loop \n",
    "        \n",
    "    return coordinates_verlet, velocities_verlet"
   ]
  },
  {
   "cell_type": "code",
   "execution_count": 65,
   "id": "d6b0f32a-ab95-46cf-8804-13c1874e14fb",
   "metadata": {},
   "outputs": [],
   "source": [
    "def u_lj_shifted_with_cutoff(r, sigma, epsilon):\n",
    "    \"\"\"\n",
    "    LJ potential shifted up by epsilon and trancated\n",
    "    at r=sigma* 2^(1/6)\n",
    "    (Target potential)\n",
    "    \"\"\"\n",
    "    r_c = sigma*np.power(2, 1/6)\n",
    "    potential = np.zeros(r.shape)\n",
    "    \n",
    "    # Selecting positins below cutoff\n",
    "    r_below_rc = np.argwhere(r < r_c)\n",
    "    \n",
    "    potential[r_below_rc] = u_lj(r[r_below_rc], sigma, epsilon) + epsilon\n",
    "    return potential\n",
    "\n",
    "def LJ_force(r, epsilon, sigma):\n",
    "    F=4*epsilon*(-12*sigma**12/r**13+6*sigma**6/r**7)\n",
    "    return F"
   ]
  },
  {
   "cell_type": "code",
   "execution_count": 66,
   "id": "6d3db545-be31-43a6-946a-7ed55cdaa95f",
   "metadata": {},
   "outputs": [],
   "source": [
    "def apply_pbc(L, x, y):         # need to reformat x and y to fit our datashape\n",
    "    x_new = (x + L/2)%L - L/2\n",
    "    y_new = (y + L/2)%L - L/2\n",
    "    return(x_new, y_new)"
   ]
  },
  {
   "cell_type": "code",
   "execution_count": 67,
   "id": "0d18d826-ebd6-40ce-b586-2d1e2a609e28",
   "metadata": {},
   "outputs": [],
   "source": [
    "dt=0.1\n",
    "nsteps=20\n",
    "coordinates_verlet, velocities_verlet = velocity_verlet_integration(N, dt, nsteps, LJ_force)"
   ]
  },
  {
   "cell_type": "code",
   "execution_count": 71,
   "id": "5e8957e9",
   "metadata": {},
   "outputs": [
    {
     "name": "stderr",
     "output_type": "stream",
     "text": [
      "C:\\Users\\Usuario\\AppData\\Local\\Temp/ipykernel_11188/948405248.py:17: RuntimeWarning: overflow encountered in power\n",
      "  F=4*epsilon*(-12*sigma**12/r**13+6*sigma**6/r**7)\n"
     ]
    },
    {
     "data": {
      "image/png": "[encoded data removed]",
      "text/plain": [
       "<Figure size 432x288 with 1 Axes>"
      ]
     },
     "metadata": {
      "needs_background": "light"
     },
     "output_type": "display_data"
    }
   ],
   "source": [
    "# AnimatedScatter class for the animation\n",
    "class AnimatedScatter:\n",
    "    def __init__(self):\n",
    "        self.numpoints = N  # Update this according to your system\n",
    "        self.stream = self.data_stream()\n",
    "\n",
    "        # Setup the figure and axes\n",
    "        self.fig, self.ax = plt.subplots()\n",
    "        self.ani = FuncAnimation(self.fig, self.update, interval=10, init_func=self.setup_plot, blit=True)\n",
    "\n",
    "    def setup_plot(self):\n",
    "        # Initial drawing of the scatter plot\n",
    "        x, y = self.stream[0][:, 0], self.stream[0][:, 1]\n",
    "        self.scat = self.ax.scatter(x, y)\n",
    "        self.ax.set_xlim(0, L)\n",
    "        self.ax.set_ylim(0, L)\n",
    "        return self.scat,\n",
    "\n",
    "    def data_stream(self):\n",
    "        # Generate data for animation\n",
    "        coordinates_verlet, _ = velocity_verlet_integration(N, dt, nsteps, LJ_force)\n",
    "        return coordinates_verlet\n",
    "\n",
    "    def update(self, i):\n",
    "        # Update the scatter plot\n",
    "        data = self.stream[i]\n",
    "        self.scat.set_offsets(data)\n",
    "        return self.scat,\n",
    "\n",
    "if __name__ == '__main__':\n",
    "    a = AnimatedScatter()\n",
    "    plt.show()"
   ]
  },
  {
   "cell_type": "markdown",
   "id": "a2de4586",
   "metadata": {},
   "source": [
    "## Task 3. Simulations in the microcanonical ensemble\n",
    "\n",
    "1) Use the code you wrote in task 3 to run MD simulation of a system with 49 particles in a square box with side length L = 7 for at least 5000 steps. Initialize velocities using T=1. Use integration step dt = 0.005. Save coordinates and velocities at each step to a file. (2 pt)\n",
    "\n",
    "2) For each timestep, calculate and plot the following values as a function of time: $\\sum_i^{N particles} V_x^i $, $\\sum_y^{N particles} V_y^i $, $E_{total}$, $E_{potential}$, $E_{kinetic}$, temperature. Which of the these values should be conserved? Do your results match the prediction?  (3 pt)\n",
    "\n",
    "3) Was the modeling time enough for the system to equilibrate? Explain.  (1 pt)\n"
   ]
  },
  {
   "cell_type": "code",
   "execution_count": 75,
   "id": "3bb89bbb",
   "metadata": {},
   "outputs": [],
   "source": [
    "# 1)\n",
    "# Constants\n",
    "N = 49  # Number of particles\n",
    "L = 7   # Box side length\n",
    "T = 1   # Temperature (K)\n",
    "dt = 0.005  # Integration step\n",
    "\n",
    "# Perform MD simulation\n",
    "nsteps = 5000  # Number of steps\n",
    "coordinates_verlet, velocities_verlet = velocity_verlet_integration(N, dt, nsteps, LJ_force)\n",
    "\n",
    "# Save coordinates and velocities to a file\n",
    "np.savez('md_simulation_output.npz', coordinates=coordinates_verlet, velocities=velocities_verlet)"
   ]
  },
  {
   "cell_type": "code",
   "execution_count": 78,
   "id": "4cfe19ba",
   "metadata": {},
   "outputs": [
    {
     "name": "stdout",
     "output_type": "stream",
     "text": [
      "[[[ 5.00000000e-01  5.00000000e-01]\n",
      "  [ 1.50000000e+00  5.00000000e-01]\n",
      "  [ 2.50000000e+00  5.00000000e-01]\n",
      "  ...\n",
      "  [ 4.50000000e+00  6.50000000e+00]\n",
      "  [ 5.50000000e+00  6.50000000e+00]\n",
      "  [ 6.50000000e+00  6.50000000e+00]]\n",
      "\n",
      " [[-4.36888561e+00 -4.37933380e+00]\n",
      "  [ 1.49962429e+00 -4.36394975e+00]\n",
      "  [ 2.49786344e+00 -4.38530520e+00]\n",
      "  ...\n",
      "  [ 4.51065490e+00  6.50692019e+00]\n",
      "  [ 5.50553301e+00  6.50301411e+00]\n",
      "  [ 6.50314591e+00  6.49902297e+00]]\n",
      "\n",
      " [[-9.23777124e+00 -9.25866761e+00]\n",
      "  [ 1.49927758e+00 -9.22789953e+00]\n",
      "  [ 2.49572785e+00 -9.27061042e+00]\n",
      "  ...\n",
      "  [ 4.52130981e+00  6.51384039e+00]\n",
      "  [ 5.51106602e+00  6.50602821e+00]\n",
      "  [ 6.50629183e+00  6.49804595e+00]]\n",
      "\n",
      " ...\n",
      "\n",
      " [[-2.43293215e+04 -2.43815311e+04]\n",
      "  [ 2.11292087e+01 -2.43046570e+04]\n",
      "  [ 1.18298147e+01 -2.44113702e+04]\n",
      "  ...\n",
      "  [ 5.77480354e+01  4.10811284e+01]\n",
      "  [ 3.31515637e+01  2.15634910e+01]\n",
      "  [ 2.22220553e+01  2.45979784e+00]]\n",
      "\n",
      " [[-2.43341904e+04 -2.43864104e+04]\n",
      "  [ 2.11332298e+01 -2.43095210e+04]\n",
      "  [ 1.18321347e+01 -2.44162555e+04]\n",
      "  ...\n",
      "  [ 5.77586914e+01  4.10880488e+01]\n",
      "  [ 3.31570974e+01  2.15665056e+01]\n",
      "  [ 2.22252016e+01  2.46004009e+00]]\n",
      "\n",
      " [[-2.43390593e+04 -2.43912897e+04]\n",
      "  [ 2.11372508e+01 -2.43143849e+04]\n",
      "  [ 1.18344548e+01 -2.44211408e+04]\n",
      "  ...\n",
      "  [ 5.77693474e+01  4.10949691e+01]\n",
      "  [ 3.31626311e+01  2.15695201e+01]\n",
      "  [ 2.22283479e+01  2.46028343e+00]]] [[[ 1.58287758e+00 -5.06759123e-01]\n",
      "  [-7.80363499e-02  2.57004941e+00]\n",
      "  [-4.27410136e-01 -1.70103978e+00]\n",
      "  ...\n",
      "  [ 2.13097794e+00  1.38403870e+00]\n",
      "  [ 1.10660121e+00  6.02820982e-01]\n",
      "  [ 6.29182433e-01 -1.95405394e-01]]\n",
      "\n",
      " [[-9.73777124e+02 -9.75866761e+02]\n",
      "  [-7.22420538e-02 -9.72789953e+02]\n",
      "  [-4.27214558e-01 -9.77061042e+02]\n",
      "  ...\n",
      "  [ 2.13098112e+00  1.38403894e+00]\n",
      "  [ 1.10660199e+00  6.02821226e-01]\n",
      "  [ 6.29182677e-01 -1.95405149e-01]]\n",
      "\n",
      " [[-9.73777126e+02 -9.75866763e+02]\n",
      "  [-6.64397695e-02 -9.72789955e+02]\n",
      "  [-4.27017814e-01 -9.77061044e+02]\n",
      "  ...\n",
      "  [ 2.13098426e+00  1.38403919e+00]\n",
      "  [ 1.10660277e+00  6.02821470e-01]\n",
      "  [ 6.29182920e-01 -1.95404904e-01]]\n",
      "\n",
      " ...\n",
      "\n",
      " [[-9.73777126e+02 -9.75866763e+02]\n",
      "  [ 8.04213957e-01 -9.72789955e+02]\n",
      "  [ 4.64015482e-01 -9.77061044e+02]\n",
      "  ...\n",
      "  [ 2.13120396e+00  1.38407702e+00]\n",
      "  [ 1.10673178e+00  6.02908890e-01]\n",
      "  [ 6.29266668e-01  4.83414521e-02]]\n",
      "\n",
      " [[-9.73777126e+02 -9.75866763e+02]\n",
      "  [ 8.04213957e-01 -9.72789955e+02]\n",
      "  [ 4.64015486e-01 -9.77061044e+02]\n",
      "  ...\n",
      "  [ 2.13120396e+00  1.38407702e+00]\n",
      "  [ 1.10673178e+00  6.02908890e-01]\n",
      "  [ 6.29266668e-01  4.85596235e-02]]\n",
      "\n",
      " [[-9.73777126e+02 -9.75866763e+02]\n",
      "  [ 8.04213957e-01 -9.72789955e+02]\n",
      "  [ 4.64015489e-01 -9.77061044e+02]\n",
      "  ...\n",
      "  [ 2.13120396e+00  1.38407702e+00]\n",
      "  [ 1.10673178e+00  6.02908890e-01]\n",
      "  [ 6.29266668e-01  4.87776454e-02]]]\n"
     ]
    }
   ],
   "source": [
    "# Load the .npz file\n",
    "data = np.load('md_simulation_output.npz')\n",
    "\n",
    "# Access individual arrays within the .npz file\n",
    "array1 = data['coordinates']  \n",
    "array2 = data['velocities']  \n",
    "\n",
    "print(array1, array2)\n",
    "\n",
    "# Close the file after reading the data\n",
    "data.close()"
   ]
  },
  {
   "cell_type": "markdown",
   "id": "20e00fa7",
   "metadata": {},
   "source": [
    "## Task 4. Constant temperature molecular  dynamics\n",
    "\n",
    "In this task, you will extend code from task 2 to run the simulation at a constant temperature using Langevin dynamics.\n",
    "\n",
    "1) Implement integration of the Langevin equation. (2 pt)\n",
    "\n",
    "2) Simulate cooling of the liquid with 121 particles in the box with L=11. First, run the simulation at T=1.4 for 2000 steps. Use final coordinates and velocities to start another simulation, this time with T=1.2.  Run this lower-temperature simulation for 2000 steps. Keep restarting the simulation, each time decreasing the temperature by 0.2. The final run should be performed at T=0.6  In all the simulations, use a constant friction coefficient of your choice. (2 pt)\n",
    "\n",
    "3) Visualize several frames from a low-temperature fragment of the trajectory. These frames represent the microscopic structure of the frozen soft-disk liquid. Is the structure different from the initial square-grid arrangement? (1 pt)"
   ]
  },
  {
   "cell_type": "markdown",
   "id": "f3f9a356",
   "metadata": {},
   "source": [
    "## Task 5. Considerations when modeling realistic systems\n",
    "\n",
    "It is easy to run a simulation that yields meaningless results when doing molecular dynamics simulation. To avoid this problem, one should know the properties and limitations of the algorithms used. To prevent some of the common pitfalls in the future, answer the following questions.\n",
    "\n",
    "1) What is the maximum cut-off radius for nonbonded interactions in a periodic system with cubic box size L?  Explain your answer. (1 pt)\n",
    "\n",
    "2) Can the Andersen thermostat be used to study dynamic properties of the system, such as diffusion coefficients. Why? (1 pt)\n",
    "\n",
    "3) What is the purpose of the particle mesh Ewald (PME) algorithm? Please briefly describe the method and a) why it is used, b) which caveats does it have, c) what are the alternatives (3 pt)"
   ]
  },
  {
   "cell_type": "code",
   "execution_count": null,
   "id": "51eceb78",
   "metadata": {},
   "outputs": [],
   "source": []
  }
 ],
 "metadata": {
  "kernelspec": {
   "display_name": "Python 3 (ipykernel)",
   "language": "python",
   "name": "python3"
  },
  "language_info": {
   "codemirror_mode": {
    "name": "ipython",
    "version": 3
   },
   "file_extension": ".py",
   "mimetype": "text/x-python",
   "name": "python",
   "nbconvert_exporter": "python",
   "pygments_lexer": "ipython3",
   "version": "3.9.7"
  },
  "toc": {
   "base_numbering": 1,
   "nav_menu": {},
   "number_sections": true,
   "sideBar": true,
   "skip_h1_title": false,
   "title_cell": "Table of Contents",
   "title_sidebar": "Contents",
   "toc_cell": false,
   "toc_position": {},
   "toc_section_display": true,
   "toc_window_display": false
  }
 },
 "nbformat": 4,
 "nbformat_minor": 5
}
