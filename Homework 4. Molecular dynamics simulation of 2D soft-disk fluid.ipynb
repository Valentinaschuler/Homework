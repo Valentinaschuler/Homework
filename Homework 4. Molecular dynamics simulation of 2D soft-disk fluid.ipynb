{
 "cells": [
  {
   "cell_type": "markdown",
   "id": "9b6f309c",
   "metadata": {},
   "source": [
    "# Homework 4. Moleculal dynamics simulation  of 2D soft-disk fluid"
   ]
  },
  {
   "cell_type": "markdown",
   "id": "0fd3d078",
   "metadata": {},
   "source": [
    "In this homework, you will use molecular dynamics to simulate the behavior of fluid consisting of soft disks in two dimensions. The particles in this fluid interact with each other via the pairwise potential of the following form: \n",
    "\n",
    " $$  u(r_{ij})=\\left\\{\n",
    "                \\begin{array}{ll}\n",
    "                  4\\epsilon \\left[ \n",
    "                  \\left (\n",
    "                  \\frac{\\sigma}{r_{ij} }\n",
    "                  \\right )^{12} \n",
    "                  -\n",
    "                   \\left (\n",
    "                  \\frac{\\sigma}{r_{ij} }\n",
    "                  \\right )^{6} + \n",
    "                  \\right ] + \\epsilon,  \\ r_{ij} < r_c\\\\\n",
    "                  0, r_{ij} \\geq r_c, r_c = 2^{1/6}\\sigma\n",
    "                \\end{array}\n",
    "              \\right.\n",
    "$$"
   ]
  },
  {
   "cell_type": "markdown",
   "id": "ca43b2b6",
   "metadata": {},
   "source": [
    "For this model, we will use reduced MD units, such that $\\sigma = 1 $, $  \\epsilon=1$,  $k_b = 1$.\n",
    "All the particles have unit mass.\n",
    "\n",
    "$ r_c = 2^{1/6}\\sigma $"
   ]
  },
  {
   "cell_type": "markdown",
   "id": "8056b3b6",
   "metadata": {},
   "source": [
    "**The homework consists of 5 tasks, 25 points total. You should work in groups of 3-4 people and submit one solution for each group within 3 weeks. You can use GitHub for collaboration.**"
   ]
  },
  {
   "cell_type": "markdown",
   "id": "56ea1588",
   "metadata": {},
   "source": [
    "## Task 1.  System initialization\n",
    "\n",
    "1) Write a function that assigns coordinates of  N particles on a square grid inside a square box with side length L. This function should return a 2d array with coordinates for each particle. (1 pt)\n",
    "\n",
    "2) Write a function that takes temperature as input and initializes particle velocities consistent with the given temperature. Make sure that the total momentum of the system is zero. (2 pt)\n"
   ]
  },
  {
   "cell_type": "code",
   "execution_count": 5,
   "id": "08c2fb7e-386f-4674-b281-33039a49fb89",
   "metadata": {},
   "outputs": [],
   "source": [
    "import numpy as np\n",
    "import matplotlib.pyplot as plt"
   ]
  },
  {
   "cell_type": "code",
   "execution_count": 9,
   "id": "eb5893b4-06d4-4478-963c-f42e8717a3c2",
   "metadata": {},
   "outputs": [],
   "source": [
    "# reduced MD units\n",
    "epsilon, m, kb, sigma = 1, 1, 1, 1"
   ]
  },
  {
   "cell_type": "code",
   "execution_count": 12,
   "id": "014feaeb",
   "metadata": {},
   "outputs": [
    {
     "data": {
      "image/png": "[encoded data removed]",
      "text/plain": [
       "<Figure size 640x480 with 1 Axes>"
      ]
     },
     "metadata": {},
     "output_type": "display_data"
    }
   ],
   "source": [
    "# This is a function which initialises the system\n",
    "# INPUTS: Temperature (T), Length of the box (L), Number of particles (N)\n",
    "# OUTPUTS: \n",
    "# x_matrix (N,2) for the positions, where the first column contanins the x-coordinates and the second the y-coordinates\n",
    "# v_matrix (N,2) for the velocities, where the first column contanins the vx-coordinates and the second the vy-coordinates\n",
    "\n",
    "# We define the inputs:\n",
    "N=25 # The square root of N (total number of particles) should be an integer\n",
    "L=10 # Length of the box\n",
    "T=300 # Temperature (K)\n",
    "\n",
    "def initialise_system(T, N, L):\n",
    "    # initialise positions\n",
    "    d=L/N**0.5\n",
    "    x = np.arange(d/2, L, d)  \n",
    "    X, Y = np.meshgrid(x, x)\n",
    "    x_matrix = np.column_stack((X.flatten(),Y.flatten()))\n",
    "    # initialise velocities\n",
    "    v = np.sqrt(kb*T/m) * np.random.randn(N,2)\n",
    "    p = np.sum(v*m, axis=0)\n",
    "    v_matrix=v-(p/(m*N))\n",
    "    return x_matrix, v_matrix\n",
    "\n",
    "x_matrix, v_matrix=initialise_system(T, N, L)\n",
    "# print(x_matrix)\n",
    "# print(v_matrix)\n",
    "# print(x_matrix.shape)\n",
    "# print(v_matrix.shape)\n",
    "\n",
    "# Plot the points\n",
    "plt.scatter(x_matrix[:,0], x_matrix[:,1], marker='o', color='blue')\n",
    "plt.xlabel('X')\n",
    "plt.ylabel('Y')\n",
    "plt.title('Simple cubic distribution')\n",
    "\n",
    "box_limits=np.array([0, L])\n",
    "xlimits = np.around(np.append(x_matrix[:,0], box_limits), decimals=1)\n",
    "ylimits = np.around(np.append(x_matrix[:,1], box_limits), decimals=1)\n",
    "\n",
    "plt.xticks(xlimits)\n",
    "plt.yticks(ylimits)\n",
    "plt.grid(True, linestyle='--', linewidth=0.5, alpha=0.7)\n",
    "plt.gca().set_aspect('equal', adjustable='box')\n",
    "\n",
    "plt.xlim(0,L)\n",
    "plt.ylim(0,L)\n",
    "\n",
    "plt.show()"
   ]
  },
  {
   "cell_type": "markdown",
   "id": "077b784f",
   "metadata": {},
   "source": [
    "## Task 2. Building MD code  \n",
    "\n",
    "\n",
    "1) Write code to perform molecular dynamics simulation of your system according to the following algorithm:\n",
    "\n",
    " *  Initialize positions, velocities, and accelerations for your system.\n",
    " * For each modeling step:\n",
    "      - Update coordinates using velocity Verlet algorithm. (1 pt)\n",
    "      - Apply periodic boundary conditions to coordinates. (1pt)\n",
    "      - Calculate the force acting on each particle and accelerations. Keep in mind minimum image convention! (4 pt)\n",
    "      - Update velocities using velocity Verlet algorithm. (1pt)"
   ]
  },
  {
   "cell_type": "code",
   "execution_count": 13,
   "id": "61badba5-00ef-45af-a54c-9dc7befad889",
   "metadata": {},
   "outputs": [],
   "source": [
    "def velocity_verlet_integration(N, dt, nsteps, force, **kwargs):\n",
    "    \"\"\"\n",
    "    Velocity Verlet integration\n",
    "    \"\"\"\n",
    "    #1.update velocity halfway\n",
    "    #2.update position using the intermediate velocity \n",
    "    #3.update velocity based on the updated position\n",
    "    coordinates_verlet = np.zeros((nsteps,N,2))\n",
    "    velocities_verlet = np.zeros((nsteps,N,2))\n",
    "\n",
    "    # Initialisation \n",
    "    coordinates_verlet[0], velocities_verlet[0] = initialise_system(T,N,L)\n",
    "\n",
    "    f1 = LJ_force(coordinates_verlet[0], epsilon, sigma)\n",
    "\n",
    "    for i in range(1,nsteps):\n",
    "        v_halfway = velocities_verlet[i-1] + 0.5*dt*f1 #1. velocity update\n",
    "        x_current = coordinates_verlet[i-1] + v_halfway*dt #2. update position using intermediate velocity\n",
    "        # apply pbcs and add minimum image to force\n",
    "        f2 = LJ_force(x_current, epsilon, sigma)\n",
    "        v_current = v_halfway + 0.5*dt*f2 #3.update velocity based on the updated position\n",
    "        velocities_verlet[i] = v_current\n",
    "        coordinates_verlet[i] = x_current\n",
    "        x_current = x_update\n",
    "        v_current = v_update\n",
    "        f1 = f2     # store force for next loop \n",
    "        \n",
    "    return coordinates_verlet, velocities_verlet"
   ]
  },
  {
   "cell_type": "code",
   "execution_count": 14,
   "id": "d6b0f32a-ab95-46cf-8804-13c1874e14fb",
   "metadata": {},
   "outputs": [],
   "source": [
    "def u_lj_shifted_with_cutoff(r, sigma, epsilon):\n",
    "    \"\"\"\n",
    "    LJ potential shifted up by epsilon and trancated\n",
    "    at r=sigma* 2^(1/6)\n",
    "    (Target potential)\n",
    "    \"\"\"\n",
    "    r_c = sigma*np.power(2, 1/6)\n",
    "    potential = np.zeros(r.shape)\n",
    "    \n",
    "    # Selecting positins below cutoff\n",
    "    r_below_rc = np.argwhere(r < r_c)\n",
    "    \n",
    "    potential[r_below_rc] = u_lj(r[r_below_rc], sigma, epsilon) + epsilon\n",
    "    return potential\n",
    "\n",
    "\n",
    "def LJ_force(r, epsilon, sigma):\n",
    "    F=4*epsilon*(-12*sigma**12/r**13+6*sigma**6/r**7)\n",
    "    return F"
   ]
  },
  {
   "cell_type": "code",
   "execution_count": 15,
   "id": "6d3db545-be31-43a6-946a-7ed55cdaa95f",
   "metadata": {},
   "outputs": [],
   "source": [
    "def apply_pbc(L, x, y):         # need to reformat x and y to fit our datashape\n",
    "    x_new = (x + L/2)%L - L/2\n",
    "    y_new = (y + L/2)%L - L/2\n",
    "    return(x_new, y_new)"
   ]
  },
  {
   "cell_type": "code",
   "execution_count": 16,
   "id": "0d18d826-ebd6-40ce-b586-2d1e2a609e28",
   "metadata": {},
   "outputs": [
    {
     "ename": "NameError",
     "evalue": "name 'x0' is not defined",
     "output_type": "error",
     "traceback": [
      "\u001b[1;31m---------------------------------------------------------------------------\u001b[0m",
      "\u001b[1;31mNameError\u001b[0m                                 Traceback (most recent call last)",
      "Cell \u001b[1;32mIn[16], line 3\u001b[0m\n\u001b[0;32m      1\u001b[0m dt\u001b[38;5;241m=\u001b[39m\u001b[38;5;241m0.1\u001b[39m\n\u001b[0;32m      2\u001b[0m nsteps\u001b[38;5;241m=\u001b[39m\u001b[38;5;241m20\u001b[39m\n\u001b[1;32m----> 3\u001b[0m coordinates_verlet, velocities_verlet \u001b[38;5;241m=\u001b[39m velocity_verlet_integration(\u001b[43mx0\u001b[49m, v0, dt, nsteps, LJ_force)\n",
      "\u001b[1;31mNameError\u001b[0m: name 'x0' is not defined"
     ]
    }
   ],
   "source": [
    "dt=0.1\n",
    "nsteps=20\n",
    "coordinates_verlet, velocities_verlet = velocity_verlet_integration(N, dt, nsteps, LJ_force)"
   ]
  },
  {
   "cell_type": "markdown",
   "id": "a2de4586",
   "metadata": {},
   "source": [
    "## Task 3. Simulations in the microcanonical ensemble\n",
    "\n",
    "1) Use the code you wrote in task 3 to run MD simulation of a system with 49 particles in a square box with side length L = 7 for at least 5000 steps. Initialize velocities using T=1. Use integration step dt = 0.005. Save coordinates and velocities at each step to a file. (2 pt)\n",
    "\n",
    "2) For each timestep, calculate and plot the following values as a function of time: $\\sum_i^{N particles} V_x^i $, $\\sum_y^{N particles} V_y^i $, $E_{total}$, $E_{potential}$, $E_{kinetic}$, temperature. Which of the these values should be conserved? Do your results match the prediction?  (3 pt)\n",
    "\n",
    "3) Was the modeling time enough for the system to equilibrate? Explain.  (1 pt)\n"
   ]
  },
  {
   "cell_type": "markdown",
   "id": "20e00fa7",
   "metadata": {},
   "source": [
    "## Task 4. Constant temperature molecular  dynamics\n",
    "\n",
    "In this task, you will extend code from task 2 to run the simulation at a constant temperature using Langevin dynamics.\n",
    "\n",
    "1) Implement integration of the Langevin equation. (2 pt)\n",
    "\n",
    "2) Simulate cooling of the liquid with 121 particles in the box with L=11. First, run the simulation at T=1.4 for 2000 steps. Use final coordinates and velocities to start another simulation, this time with T=1.2.  Run this lower-temperature simulation for 2000 steps. Keep restarting the simulation, each time decreasing the temperature by 0.2. The final run should be performed at T=0.6  In all the simulations, use a constant friction coefficient of your choice. (2 pt)\n",
    "\n",
    "3) Visualize several frames from a low-temperature fragment of the trajectory. These frames represent the microscopic structure of the frozen soft-disk liquid. Is the structure different from the initial square-grid arrangement? (1 pt)"
   ]
  },
  {
   "cell_type": "markdown",
   "id": "f3f9a356",
   "metadata": {},
   "source": [
    "## Task 5. Considerations when modeling realistic systems\n",
    "\n",
    "It is easy to run a simulation that yields meaningless results when doing molecular dynamics simulation. To avoid this problem, one should know the properties and limitations of the algorithms used. To prevent some of the common pitfalls in the future, answer the following questions.\n",
    "\n",
    "1) What is the maximum cut-off radius for nonbonded interactions in a periodic system with cubic box size L?  Explain your answer. (1 pt)\n",
    "\n",
    "2) Can the Andersen thermostat be used to study dynamic properties of the system, such as diffusion coefficients. Why? (1 pt)\n",
    "\n",
    "3) What is the purpose of the particle mesh Ewald (PME) algorithm? Please briefly describe the method and a) why it is used, b) which caveats does it have, c) what are the alternatives (3 pt)"
   ]
  },
  {
   "cell_type": "code",
   "execution_count": null,
   "id": "51eceb78",
   "metadata": {},
   "outputs": [],
   "source": []
  }
 ],
 "metadata": {
  "kernelspec": {
   "display_name": "Python 3 (ipykernel)",
   "language": "python",
   "name": "python3"
  },
  "language_info": {
   "codemirror_mode": {
    "name": "ipython",
    "version": 3
   },
   "file_extension": ".py",
   "mimetype": "text/x-python",
   "name": "python",
   "nbconvert_exporter": "python",
   "pygments_lexer": "ipython3",
   "version": "3.9.18"
  },
  "toc": {
   "base_numbering": 1,
   "nav_menu": {},
   "number_sections": true,
   "sideBar": true,
   "skip_h1_title": false,
   "title_cell": "Table of Contents",
   "title_sidebar": "Contents",
   "toc_cell": false,
   "toc_position": {},
   "toc_section_display": true,
   "toc_window_display": false
  }
 },
 "nbformat": 4,
 "nbformat_minor": 5
}
